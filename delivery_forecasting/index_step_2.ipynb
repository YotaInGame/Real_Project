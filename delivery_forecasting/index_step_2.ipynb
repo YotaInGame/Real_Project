{
 "cells": [
  {
   "attachments": {},
   "cell_type": "markdown",
   "metadata": {},
   "source": [
    "В данном файле вы найдете простой код Rest Api приложения для интерграции модели. В данном случае авторизация не требуется."
   ]
  },
  {
   "cell_type": "code",
   "execution_count": null,
   "metadata": {},
   "outputs": [],
   "source": [
    "# импорт библиотек\n",
    "from flask import Flask, jsonify, make_response, request\n",
    "\n",
    "import pandas as pd\n",
    "import pickle\n",
    "import os.path as path\n",
    "import sys \n",
    "\n",
    "from datetime import datetime\n",
    "from catboost import CatBoostRegressor "
   ]
  },
  {
   "cell_type": "code",
   "execution_count": null,
   "metadata": {},
   "outputs": [],
   "source": [
    "# загружаем скалеры, \n",
    "# подготовленные данны\n",
    "# модельку\n",
    "standard = pickle.load(open('scaler_v2.pkl', 'rb')) \n",
    "data_grouped = pd.read_csv('grouped_data.csv')\n",
    "model = CatBoostRegressor()\n",
    "model.load_model('delivery_model_v2')"
   ]
  },
  {
   "cell_type": "code",
   "execution_count": null,
   "metadata": {},
   "outputs": [],
   "source": [
    "# 404 если не существует урла\n",
    "app = Flask(__name__)\n",
    "\n",
    "@app.errorhandler(404)\n",
    "def not_found(error):\n",
    "    return make_response(jsonify({'error':'Not found'}), 404)"
   ]
  },
  {
   "cell_type": "code",
   "execution_count": null,
   "metadata": {},
   "outputs": [],
   "source": [
    "# определяем сезонность\n",
    "def seazon(x):\n",
    "    month = x['month']\n",
    "    if month in [1, 2, 3]:\n",
    "        return 1\n",
    "    elif month in [4, 5, 6]:\n",
    "        return 2\n",
    "    elif month in [7, 8, 9]:\n",
    "        return 3\n",
    "    return 4"
   ]
  },
  {
   "cell_type": "code",
   "execution_count": null,
   "metadata": {},
   "outputs": [],
   "source": [
    "# ссылка куда делаем запрос,\n",
    "# возвращает предсказание\n",
    "@app.route('/predict', methods=['POST'])\n",
    "def predict():\n",
    "\n",
    "    df = pd.DataFrame.from_dict(request.json)    \n",
    "\n",
    "    df['seazon'] = df.apply(lambda x: seazon(x), axis=1)\n",
    "\n",
    "    df['avg_time_in_product'] = df.apply(\n",
    "    lambda x: filter(x, 'days_in_product'), axis=1)\n",
    "\n",
    "    df['avg_time_in_delivery'] = df.apply(\n",
    "    lambda x: filter(x, 'days_delivery'), axis=1)\n",
    "\n",
    "    df = df.drop('seazon', axis=1)\n",
    "    \n",
    "    columns = ['distance', 'duration', 'in_stock', 'standart_size', 'client_lat', 'client_lng', 'month', 'day', 'dayofweek', 'avg_time_in_product', 'avg_time_in_delivery', 'avg_diff_time_sm_askona']\n",
    "    \n",
    "    df[columns] = standard.transform(df[columns])\n",
    "    df['preds'] = model.predict(df) \n",
    "    \n",
    "    return jsonify(df['preds'].to_dict())"
   ]
  }
 ],
 "metadata": {
  "kernelspec": {
   "display_name": "Python 3",
   "language": "python",
   "name": "python3"
  },
  "language_info": {
   "codemirror_mode": {
    "name": "ipython",
    "version": 3
   },
   "file_extension": ".py",
   "mimetype": "text/x-python",
   "name": "python",
   "nbconvert_exporter": "python",
   "pygments_lexer": "ipython3",
   "version": "3.10.6"
  },
  "orig_nbformat": 4
 },
 "nbformat": 4,
 "nbformat_minor": 2
}
