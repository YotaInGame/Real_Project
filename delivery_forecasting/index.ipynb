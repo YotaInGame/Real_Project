{
 "cells": [
  {
   "attachments": {},
   "cell_type": "markdown",
   "metadata": {},
   "source": [
    "#  Прогнозирование сроков доставки"
   ]
  },
  {
   "attachments": {},
   "cell_type": "markdown",
   "metadata": {},
   "source": [
    "Для интернет-магазина «SoftMatras» необходимо разработать модель прогнозирования сроков доставки заказа. Интернет-магазин является дилером, а доставка осуществляется силами производителя. Данное решение позволит:\n",
    "\n",
    "* Не терять каналы продаж в виде маркетплейсов, избегая блокировок из-за сроков доставки.  \n",
    "* Выставлять конкурентно способные сроки доставки, тем самымы привлекая больше клиентов.\n",
    "* Уменьшать время обработки заказов.\n",
    "* При заказе через интернет-магазин выводит клиентам примерные сроки доставки."
   ]
  },
  {
   "attachments": {},
   "cell_type": "markdown",
   "metadata": {},
   "source": [
    "В качестве метрики была выбрана RMSE."
   ]
  },
  {
   "attachments": {},
   "cell_type": "markdown",
   "metadata": {},
   "source": [
    "## 1. Предобработка"
   ]
  },
  {
   "cell_type": "code",
   "execution_count": 257,
   "metadata": {},
   "outputs": [],
   "source": [
    "# импорт библиотек\n",
    "import pandas as pd\n",
    "import seaborn as sns\n",
    "import matplotlib.pyplot as plt\n",
    "import numpy as np\n",
    "import random\n",
    "import glob \n",
    "import datetime\n",
    "import pickle\n",
    "\n",
    "from sqlalchemy import create_engine, text\n",
    "from sklearn.model_selection import train_test_split, cross_val_score, RandomizedSearchCV, GridSearchCV\n",
    "from sklearn.preprocessing import OrdinalEncoder, StandardScaler, OneHotEncoder\n",
    "from sklearn.metrics import mean_squared_error\n",
    "\n",
    "from sklearn.linear_model import LinearRegression\n",
    "from sklearn.ensemble import RandomForestRegressor\n",
    "from catboost import CatBoostRegressor"
   ]
  },
  {
   "cell_type": "code",
   "execution_count": 258,
   "metadata": {},
   "outputs": [],
   "source": [
    "# константы\n",
    "# определяем стандартные и не стандартный размер\n",
    "# в данном списке находятся стандартные размеры дестких и взрослых матрасов\n",
    "RANDOM_STATE = 42\n",
    "\n",
    "STANDART_SIZE = ['80 x 190',\n",
    "                 '80 x 200',\n",
    "                 '90 x 190',\n",
    "                 '90 x 200',\n",
    "                 '120 x 190',\n",
    "                 '120 x 200',\n",
    "                 '140 x 190',\n",
    "                 '140 x 200',\n",
    "                 '160 x 190',\n",
    "                 '160 x 200',\n",
    "                 '180 x 190',\n",
    "                 '180 x 200',\n",
    "                 '200 x 190',\n",
    "                 '200 x 200']\n",
    "\n",
    "STANDART_BABY_SIZE = ['60 x 120',\n",
    "                      '65 x 120',\n",
    "                      '65 x 125',\n",
    "                      '70 x 140',\n",
    "                      '60 x 145',\n",
    "                      '60 x 150',\n",
    "                      '70 x 160',\n",
    "                      '75 x 175',\n",
    "                      '80 x 160',\n",
    "                      '80 x 180',\n",
    "                      '80 x 190',\n",
    "                      '80 x 195',\n",
    "                      '80 x 200',\n",
    "                      '90 x 180',\n",
    "                      '90 x 190',\n",
    "                      '90 x 195',\n",
    "                      '90 x 200']"
   ]
  },
  {
   "cell_type": "code",
   "execution_count": 259,
   "metadata": {},
   "outputs": [],
   "source": [
    "# Фиксируем рандом\n",
    "random.seed(RANDOM_STATE)\n",
    "np.random.seed(RANDOM_STATE)"
   ]
  },
  {
   "attachments": {},
   "cell_type": "markdown",
   "metadata": {},
   "source": [
    "На старте работы необходимо было выяснить, что влияет на сроки доставки. В результате, выяснилось следующие:\n",
    "\n",
    "* Размеры матрасов: стандартные и не стандартные:<br>\n",
    " -Стандартные матрасы изготовляются быстрее<br>\n",
    " -Не стандартные матрасы изготовляются медленнее, требуется заявление от клиента<br>\n",
    "* От серии матрасов.\n",
    "* Регион. \n",
    "* Наличие матрасов на складе, как правило в наличии бывают только матрасы стандартного размера.\n",
    "* Расстояние от склада до клиента\n",
    "* Время в пути\n",
    "* Гео позиция\n",
    "* Выходные дни\n",
    "* Время обработки заказа\n"
   ]
  },
  {
   "attachments": {},
   "cell_type": "markdown",
   "metadata": {},
   "source": [
    "В данном интернет магазине данные были заполненны с ошибками, нужно было их привести в порядок. Так же более половины признаков отсутсвовало, в ходе работы над проектом было решено сгенерировать необходимые признаки.\n",
    "\n",
    "Для генерации и очистки нужных признаков использовались сторонние сервисы:\n",
    "* Dadata - стандартизация адресов, получение региона по адресу, а также гео координат.\n",
    "* project-osrm.org - сервис для рассчета расстояния от склада до клиента, а так же времени в пути\n",
    "\n",
    "В качестве языка использовался PHP, более детально можно посмотреть в **index_step_1.ipynb**"
   ]
  },
  {
   "cell_type": "code",
   "execution_count": 260,
   "metadata": {},
   "outputs": [],
   "source": [
    "# подключимся к базе\n",
    "db_config = {\n",
    "    'user': '****',\n",
    "    'pwd': '****', \n",
    "    'host': '****',\n",
    "    'db': '****' \n",
    "} \n",
    "\n",
    "connection_string = 'mysql+pymysql://{}:{}@{}:3306/{}'.format(\n",
    "    db_config['user'],\n",
    "    db_config['pwd'],\n",
    "    db_config['host'],\n",
    "    db_config['db'],\n",
    ")\n",
    "\n",
    "engine = create_engine(connection_string)"
   ]
  },
  {
   "attachments": {},
   "cell_type": "markdown",
   "metadata": {},
   "source": [
    "Напишем запрос для получения всех выполненных заказов производителя аскона"
   ]
  },
  {
   "cell_type": "code",
   "execution_count": 261,
   "metadata": {},
   "outputs": [],
   "source": [
    "# старый запрос\n",
    "# запрос был переписан т.к необходимо было изменить целевую переменную\n",
    "query = '''SELECT DISTINCT so.id,\n",
    "                        so.create_datetime,\n",
    "                        sol2.datetime otpravit_v_proizvodstvo,\n",
    "                        timestampdiff(DAY, so.create_datetime, sol2.datetime) diff_create_send_time,\n",
    "                        timestampdiff(DAY, so.create_datetime, so.update_datetime) order_created_finished_day,\n",
    "                        sop2.value distance,\n",
    "                        sop3.value duration,\n",
    "                        IF (timestampdiff(DAY, so.create_datetime, so.update_datetime) < 7, 1, 0) in_stock,\n",
    "                        soi.quantity,\n",
    "                        sop.value region,\n",
    "                        so.total, \n",
    "                        soi.name,\n",
    "                        sol.text,\n",
    "                        t1.collection,\n",
    "                        sop5.value client_lat,\n",
    "                        sop6.value client_lng,\n",
    "                        so.total \n",
    "                FROM shop_product_features spf \n",
    "                JOIN shop_order_items soi ON spf.product_id = soi.product_id \n",
    "                JOIN shop_order so ON soi.order_id = so.id \n",
    "                JOIN shop_order_params sop ON sop.order_id = so.id\n",
    "                JOIN shop_order_params sop2 ON sop2.order_id = so.id\n",
    "                    AND sop2.name = \\'distance\\'\n",
    "                JOIN shop_order_params sop3 ON sop3.order_id = so.id\n",
    "                    AND sop3.name = \\'duration\\'\n",
    "                LEFT JOIN shop_order_params sop4 ON sop4.order_id = so.id\n",
    "                    AND sop4.name = \\'shipping_address.osobennosti\\' \n",
    "                    AND (sop4.value LIKE \\'%%есть%%\\' OR sop4.value LIKE \\'%%В наличии%%\\') \n",
    "                JOIN shop_order_params sop5 ON sop5.order_id = so.id\n",
    "                    AND sop5.name = \\'shipping_address.lat\\'  \n",
    "                JOIN shop_order_params sop6 ON sop6.order_id = so.id\n",
    "                    AND sop6.name = \\'shipping_address.lng\\'         \n",
    "                LEFT JOIN shop_order_log sol ON sol.order_id = so.id\n",
    "                    AND sol.text = \\'Менеджер: Брандт Евгения(Мен.)\\'\n",
    "                LEFT JOIN shop_order_log sol2 ON sol2.order_id = so.id\n",
    "                            AND sol2.action_id = \\'otpravit-v-proizvodstvo\\'   \n",
    "                /*LEFT JOIN shop_order_log sol3 ON sol3.order_id = so.id\n",
    "                            AND sol3.action_id = \\'otpravlen-v-pr-vo-schet-oplachen\\'  \n",
    "                LEFT JOIN shop_order_log sol4 ON sol4.order_id = so.id\n",
    "                            AND sol4.action_id = \\'otpravlen-v-pr-vo\\' \n",
    "                LEFT JOIN shop_order_log sol5 ON sol5.order_id = so.id\n",
    "                            AND sol5.action_id = \\'otpravlen-v-pr-vo-ozhidaem-schet\\'*/                       \n",
    "                LEFT JOIN (SELECT spf.product_id,\n",
    "                                sfvv.value collection \n",
    "                                FROM shop_product_features spf \n",
    "                            LEFT JOIN shop_feature_values_varchar sfvv ON sfvv.feature_id = spf.feature_id \n",
    "                                AND sfvv.id = spf.feature_value_id \n",
    "                            WHERE spf.product_id IN (SELECT product_id  \n",
    "                                                    FROM shop_product_features spf\n",
    "                                                    WHERE spf.feature_id = 78\n",
    "                                                        AND spf.feature_value_id = 15458)\n",
    "                                AND spf.feature_id = 158) t1 ON t1.product_id = soi.product_id \n",
    "                WHERE spf.feature_id = 78\n",
    "                    AND spf.feature_value_id = 15458\n",
    "                    AND so.state_id = 'completed'\n",
    "                    AND sop.name = 'shipping_address.region' '''"
   ]
  },
  {
   "cell_type": "code",
   "execution_count": 262,
   "metadata": {},
   "outputs": [],
   "source": [
    "data = pd.DataFrame(engine.connect().execute(text(query)))"
   ]
  },
  {
   "cell_type": "code",
   "execution_count": 263,
   "metadata": {},
   "outputs": [
    {
     "name": "stdout",
     "output_type": "stream",
     "text": [
      "<class 'pandas.core.frame.DataFrame'>\n",
      "RangeIndex: 1794 entries, 0 to 1793\n",
      "Data columns (total 17 columns):\n",
      " #   Column                      Non-Null Count  Dtype         \n",
      "---  ------                      --------------  -----         \n",
      " 0   id                          1794 non-null   int64         \n",
      " 1   create_datetime             1794 non-null   datetime64[ns]\n",
      " 2   otpravit_v_proizvodstvo     1428 non-null   datetime64[ns]\n",
      " 3   diff_create_send_time       1428 non-null   float64       \n",
      " 4   order_created_finished_day  1794 non-null   int64         \n",
      " 5   distance                    1794 non-null   object        \n",
      " 6   duration                    1794 non-null   object        \n",
      " 7   in_stock                    1794 non-null   int64         \n",
      " 8   quantity                    1794 non-null   object        \n",
      " 9   region                      1794 non-null   object        \n",
      " 10  total                       1794 non-null   object        \n",
      " 11  name                        1794 non-null   object        \n",
      " 12  text                        22 non-null     object        \n",
      " 13  collection                  1668 non-null   object        \n",
      " 14  client_lat                  1794 non-null   object        \n",
      " 15  client_lng                  1794 non-null   object        \n",
      " 16  total                       1794 non-null   object        \n",
      "dtypes: datetime64[ns](2), float64(1), int64(3), object(11)\n",
      "memory usage: 238.4+ KB\n"
     ]
    }
   ],
   "source": [
    "data.info()"
   ]
  },
  {
   "attachments": {},
   "cell_type": "markdown",
   "metadata": {},
   "source": [
    "Признаки:\n",
    "* id - номер заказа\n",
    "* create_datetime - время создания заказа\n",
    "* otpravit_v_proizvodstvo  - дата отправки в производство (в следующий статус)\n",
    "* diff_create_send_time - время обрабатки (разница между otpravit_v_proizvodstvo и create_datetime)\n",
    "* distance - дистанция до адреса\n",
    "* duration - время в пути\n",
    "* in_stock - в наличии\n",
    "* quantity - количество товара в заказе\n",
    "* region - номер региона\n",
    "* total  - цена\n",
    "* name - название товара. В названии присутствует размер, что позваляет определить является ли он стандартным или не стандартным\n",
    "* text - коммент в заказе о наличии\n",
    "* collection - коллекция матраса\n",
    "* client_lat - координаты клиента\n",
    "* client_lng  - координаты клиента\n",
    "* total - итоговая стоимости заказа\n",
    "\n",
    "Целевой признак:\n",
    "* order_created_finished_day - разница между датой создания и датой завершения заказа (в днях)\n",
    "\n",
    "В целевую переменную входит время обработки заказа менеджером, т.е к целевой переменной может добавиться 1-3 дня обработки заказа, а если его \"забыли\" в статусе, то можно посчитать выбросом."
   ]
  },
  {
   "attachments": {},
   "cell_type": "markdown",
   "metadata": {},
   "source": [
    "В ходе дополнительных консультаций, выяснилось что на почту приходит ежедневный отчет о состоянии заказов. Необходимо получить весь список отчетов за год и связать их с текущими заказами."
   ]
  },
  {
   "cell_type": "code",
   "execution_count": 264,
   "metadata": {},
   "outputs": [],
   "source": [
    "# новый запрос\n",
    "#\n",
    "query = '''SELECT DISTINCT so.id,\n",
    "        so.create_datetime,\n",
    "  wc.name contact_name,\n",
    "        soi.name product_name,\n",
    "        sol2.datetime send_to_product_payd,\n",
    "        sol3.datetime send_to_product_will_pay,\n",
    "        IF(t1.collection IS NULL, 'unknown', t1.collection) collection,\n",
    "        sop5.value region_id,\n",
    "        sop.value distance,\n",
    "        sop.value duration,\n",
    "        sop3.value client_lat,\n",
    "        sop4.value client_lng\n",
    "FROM shop_order so\n",
    "LEFT JOIN shop_order_items soi ON so.id = soi.order_id\n",
    "JOIN shop_product_features spf ON spf.product_id = soi.product_id\n",
    "LEFT JOIN shop_order_log sol ON sol.order_id = so.id\n",
    " AND sol.text = 'Менеджер: Брандт Евгения(Мен.)'\n",
    "LEFT JOIN wa_contact wc ON wc.id = so.contact_id\n",
    "LEFT JOIN (SELECT spf.product_id,\n",
    "                                sfvv.value collection \n",
    "                                FROM shop_product_features spf \n",
    "                            LEFT JOIN shop_feature_values_varchar sfvv ON sfvv.feature_id = spf.feature_id \n",
    "                                AND sfvv.id = spf.feature_value_id \n",
    "                            WHERE spf.product_id IN (SELECT product_id  \n",
    "                                                    FROM shop_product_features spf\n",
    "                                                    WHERE spf.feature_id = 78\n",
    "                                                        AND spf.feature_value_id = 15458)\n",
    "                                AND spf.feature_id = 158) t1 ON t1.product_id = soi.product_id \n",
    "LEFT JOIN shop_order_params sop ON sop.order_id = so.id\n",
    " AND sop.name = 'distance'\n",
    "LEFT JOIN shop_order_params sop2 ON sop2.order_id = so.id\n",
    "    AND sop2.name = 'duration'\n",
    "LEFT JOIN shop_order_params sop3 ON sop3.order_id = so.id\n",
    " AND sop3.name = 'shipping_address.lat'  \n",
    "LEFT JOIN shop_order_params sop4 ON sop4.order_id = so.id\n",
    " AND sop4.name = 'shipping_address.lng'\n",
    "LEFT JOIN shop_order_params sop5 ON sop5.order_id = so.id \n",
    " AND sop5.name = 'shipping_address.region'\n",
    "LEFT JOIN shop_order_log sol2 ON sol2.order_id = so.id\n",
    " AND sol2.action_id = 'oplachen-i-otpravlen-v-proizvods'\n",
    "LEFT JOIN shop_order_log sol3 ON sol3.order_id = so.id\n",
    " AND sol3.action_id = 'otpravlen-v-pr-vo'\n",
    "WHERE spf.feature_id = 78\n",
    " AND spf.feature_value_id = 15458\n",
    "    AND so.state_id = 'completed'\n",
    "    AND sol.text IS NULL\n",
    "'''"
   ]
  },
  {
   "cell_type": "code",
   "execution_count": 265,
   "metadata": {},
   "outputs": [],
   "source": [
    "data = pd.DataFrame(engine.connect().execute(text(query)))"
   ]
  },
  {
   "cell_type": "code",
   "execution_count": 266,
   "metadata": {},
   "outputs": [
    {
     "name": "stdout",
     "output_type": "stream",
     "text": [
      "<class 'pandas.core.frame.DataFrame'>\n",
      "RangeIndex: 1824 entries, 0 to 1823\n",
      "Data columns (total 12 columns):\n",
      " #   Column                    Non-Null Count  Dtype         \n",
      "---  ------                    --------------  -----         \n",
      " 0   id                        1824 non-null   int64         \n",
      " 1   create_datetime           1824 non-null   datetime64[ns]\n",
      " 2   contact_name              1824 non-null   object        \n",
      " 3   product_name              1824 non-null   object        \n",
      " 4   send_to_product_payd      1402 non-null   datetime64[ns]\n",
      " 5   send_to_product_will_pay  276 non-null    datetime64[ns]\n",
      " 6   collection                1824 non-null   object        \n",
      " 7   region_id                 1824 non-null   object        \n",
      " 8   distance                  1767 non-null   object        \n",
      " 9   duration                  1767 non-null   object        \n",
      " 10  client_lat                1810 non-null   object        \n",
      " 11  client_lng                1810 non-null   object        \n",
      "dtypes: datetime64[ns](3), int64(1), object(8)\n",
      "memory usage: 171.1+ KB\n"
     ]
    }
   ],
   "source": [
    "data.info()"
   ]
  },
  {
   "attachments": {},
   "cell_type": "markdown",
   "metadata": {},
   "source": [
    "Признаки:\n",
    "* id - номер заказа\n",
    "* create_datetime - время создания заказа\n",
    "* contact_name - имя пользователя\n",
    "* product_name - название товара, включая размер. Позволит определить стандарт/не стандарт.\n",
    "* send_to_product_payd - отправлен в производтво и оплачен\n",
    "* send_to_product_will_pay - отправлен в производство, будет оплачен при получении\n",
    "* collection - название коллекции \n",
    "* region_id - номер региона\n",
    "* distance - расстояние от склада до клиента в метрах\n",
    "* duration - время, за которое будет преодолена дистанция до клиента в секундах\n",
    "* client_lat, client_lng - координаты\n",
    "\n",
    "Целевой признак:\n",
    "* days_order_fineshed - дата доставки, будет получен из файлов\n"
   ]
  },
  {
   "cell_type": "code",
   "execution_count": 267,
   "metadata": {},
   "outputs": [
    {
     "name": "stdout",
     "output_type": "stream",
     "text": [
      "<class 'pandas.core.frame.DataFrame'>\n",
      "Int64Index: 1656 entries, 0 to 1823\n",
      "Data columns (total 11 columns):\n",
      " #   Column           Non-Null Count  Dtype         \n",
      "---  ------           --------------  -----         \n",
      " 0   id               1656 non-null   int64         \n",
      " 1   create_datetime  1656 non-null   datetime64[ns]\n",
      " 2   contact_name     1656 non-null   object        \n",
      " 3   product_name     1656 non-null   object        \n",
      " 4   collection       1656 non-null   object        \n",
      " 5   region_id        1656 non-null   object        \n",
      " 6   distance         1615 non-null   object        \n",
      " 7   duration         1615 non-null   object        \n",
      " 8   client_lat       1644 non-null   object        \n",
      " 9   client_lng       1644 non-null   object        \n",
      " 10  send_to_product  1656 non-null   datetime64[ns]\n",
      "dtypes: datetime64[ns](2), int64(1), object(8)\n",
      "memory usage: 155.2+ KB\n"
     ]
    }
   ],
   "source": [
    "# Удалим пустые значения\n",
    "# Они означают что статус были добавлены позже\n",
    "\n",
    "data.loc[~data['send_to_product_will_pay'].isnull(), 'send_to_product'] = data.loc[~data['send_to_product_will_pay'].isnull()]['send_to_product_will_pay']\n",
    "data.loc[~data['send_to_product_payd'].isnull(), 'send_to_product'] = data.loc[~data['send_to_product_payd'].isnull()]['send_to_product_payd']\n",
    "data = data[~data['send_to_product'].isnull()].drop(['send_to_product_payd', 'send_to_product_will_pay'], axis=1)\n",
    "data.info()"
   ]
  },
  {
   "attachments": {},
   "cell_type": "markdown",
   "metadata": {},
   "source": [
    "Соеденим файлы и результат выполнения запроса.\n",
    "\n",
    "Код скачивания файлов с почты доступен в файле **get_emails.py**"
   ]
  },
  {
   "cell_type": "code",
   "execution_count": 268,
   "metadata": {},
   "outputs": [],
   "source": [
    "# считываем xlsx файлы\n",
    "list_of_data = [pd.read_excel(filename) for filename in glob.glob('prace_auto_dow/*.xlsx')]\n",
    "df = pd.concat(list_of_data, axis=0)"
   ]
  },
  {
   "cell_type": "code",
   "execution_count": 269,
   "metadata": {},
   "outputs": [
    {
     "name": "stdout",
     "output_type": "stream",
     "text": [
      "<class 'pandas.core.frame.DataFrame'>\n",
      "Int64Index: 105442 entries, 0 to 673\n",
      "Data columns (total 32 columns):\n",
      " #   Column                                  Non-Null Count   Dtype         \n",
      "---  ------                                  --------------   -----         \n",
      " 0   PNT                                     105442 non-null  object        \n",
      " 1   ДО                                      105442 non-null  object        \n",
      " 2   Статус заказа                           105442 non-null  object        \n",
      " 3   Статус строки заказа                    105437 non-null  object        \n",
      " 4   Дата оформления заказа                  105442 non-null  datetime64[ns]\n",
      " 5   Плановая дата завершения заказа         105353 non-null  datetime64[ns]\n",
      " 6   Дата последнего изменения заказа        105442 non-null  datetime64[ns]\n",
      " 7   МЦ                                      105442 non-null  object        \n",
      " 8   Количество единиц МЦ из позиций заказа  105442 non-null  int64         \n",
      " 9   Сумма                                   105442 non-null  int64         \n",
      " 10  Сумма услуг в сумме платежа             105442 non-null  float64       \n",
      " 11  Контрагент                              105442 non-null  object        \n",
      " 12  Менеджер                                0 non-null       float64       \n",
      " 13  Категория документа                     5843 non-null    object        \n",
      " 14  Дата в произ                            65118 non-null   datetime64[ns]\n",
      " 15  Дата в произ(ФАКТ)                      62676 non-null   datetime64[ns]\n",
      " 16  Дата когда встал резерв                 13213 non-null   datetime64[ns]\n",
      " 17  Склад отгрузки                          105226 non-null  object        \n",
      " 18  Номер накладной                         74622 non-null   object        \n",
      " 19  Дата накладной                          74622 non-null   datetime64[ns]\n",
      " 20  Примечание                              105442 non-null  object        \n",
      " 21  Сумма оплат по ДО                       105442 non-null  float64       \n",
      " 22  Доставка                                105442 non-null  object        \n",
      " 23  Тип доставки                            105435 non-null  object        \n",
      " 24  Сумма по доставке                       105442 non-null  int64         \n",
      " 25  Телефон                                 105442 non-null  object        \n",
      " 26  Адрес доставки/адрес покупателя         105442 non-null  object        \n",
      " 27  Дата в Развоз Шапка                     77804 non-null   datetime64[ns]\n",
      " 28  Дата в Развоз Строка                    77643 non-null   datetime64[ns]\n",
      " 29  Склад резерва                           105266 non-null  object        \n",
      " 30  Информация о развозе для менеджера      17969 non-null   object        \n",
      " 31  Причина отказа по строке                1300 non-null    object        \n",
      "dtypes: datetime64[ns](9), float64(3), int64(3), object(17)\n",
      "memory usage: 26.5+ MB\n"
     ]
    }
   ],
   "source": [
    "df.info()"
   ]
  },
  {
   "cell_type": "code",
   "execution_count": 270,
   "metadata": {},
   "outputs": [],
   "source": [
    "# информация, которую нежелательно показывать\n",
    "# по этому вывод убран\n",
    "#df.head(3)"
   ]
  },
  {
   "cell_type": "code",
   "execution_count": 271,
   "metadata": {},
   "outputs": [
    {
     "name": "stdout",
     "output_type": "stream",
     "text": [
      "<class 'pandas.core.frame.DataFrame'>\n",
      "Int64Index: 73855 entries, 0 to 617\n",
      "Data columns (total 32 columns):\n",
      " #   Column                                  Non-Null Count  Dtype         \n",
      "---  ------                                  --------------  -----         \n",
      " 0   PNT                                     73855 non-null  object        \n",
      " 1   ДО                                      73855 non-null  object        \n",
      " 2   Статус заказа                           73855 non-null  object        \n",
      " 3   Статус строки заказа                    73855 non-null  object        \n",
      " 4   Дата оформления заказа                  73855 non-null  datetime64[ns]\n",
      " 5   Плановая дата завершения заказа         73855 non-null  datetime64[ns]\n",
      " 6   Дата последнего изменения заказа        73855 non-null  datetime64[ns]\n",
      " 7   МЦ                                      73855 non-null  object        \n",
      " 8   Количество единиц МЦ из позиций заказа  73855 non-null  int64         \n",
      " 9   Сумма                                   73855 non-null  int64         \n",
      " 10  Сумма услуг в сумме платежа             73855 non-null  float64       \n",
      " 11  Контрагент                              73855 non-null  object        \n",
      " 12  Менеджер                                0 non-null      float64       \n",
      " 13  Категория документа                     45 non-null     object        \n",
      " 14  Дата в произ                            44519 non-null  datetime64[ns]\n",
      " 15  Дата в произ(ФАКТ)                      43778 non-null  datetime64[ns]\n",
      " 16  Дата когда встал резерв                 6 non-null      datetime64[ns]\n",
      " 17  Склад отгрузки                          73690 non-null  object        \n",
      " 18  Номер накладной                         73743 non-null  object        \n",
      " 19  Дата накладной                          73743 non-null  datetime64[ns]\n",
      " 20  Примечание                              73855 non-null  object        \n",
      " 21  Сумма оплат по ДО                       73855 non-null  float64       \n",
      " 22  Доставка                                73855 non-null  object        \n",
      " 23  Тип доставки                            73855 non-null  object        \n",
      " 24  Сумма по доставке                       73855 non-null  int64         \n",
      " 25  Телефон                                 73855 non-null  object        \n",
      " 26  Адрес доставки/адрес покупателя         73855 non-null  object        \n",
      " 27  Дата в Развоз Шапка                     73232 non-null  datetime64[ns]\n",
      " 28  Дата в Развоз Строка                    73097 non-null  datetime64[ns]\n",
      " 29  Склад резерва                           73785 non-null  object        \n",
      " 30  Информация о развозе для менеджера      14140 non-null  object        \n",
      " 31  Причина отказа по строке                54 non-null     object        \n",
      "dtypes: datetime64[ns](9), float64(3), int64(3), object(17)\n",
      "memory usage: 18.6+ MB\n"
     ]
    }
   ],
   "source": [
    "# В именах клиентов производитель ставит технические пометки\n",
    "# которые нам не нужны\n",
    "# так же получим только выполненные заказы\n",
    "df['Контрагент'] = df['Контрагент'].apply(lambda x:str(x).replace('+', ''))\n",
    "\n",
    "df = df[df['Статус заказа'] == 'Отгрузка завершена']\n",
    "df.info()"
   ]
  },
  {
   "cell_type": "code",
   "execution_count": 272,
   "metadata": {},
   "outputs": [],
   "source": [
    "# Заказы могут оформлятся задним числом\n",
    "# или на день-два позже\n",
    "# напишем функцию для связывания заказов\n",
    "def link(x):\n",
    "\n",
    "    date = datetime.datetime.strptime(str(x['send_to_product']).split(' ')[0], \"%Y-%m-%d\").date() \n",
    "    \n",
    "\n",
    "    list_contact = str(x['contact_name']).replace('*', '')\n",
    "    list_contact = list_contact.split(' ')\n",
    "\n",
    "    if len(list_contact) == 2:\n",
    "        find_name = df['Контрагент'].str.contains('{}'.format(list_contact[0])) &  df['Контрагент'].str.contains('{}'.format(list_contact[1]))\n",
    "    else:\n",
    "        find_name = df['Контрагент'].str.contains('{}'.format(str(x['contact_name'])))    \n",
    "    \n",
    "    filter = (find_name) & (df['Дата оформления заказа'] == str(date))\n",
    "    \n",
    "    if len(df[filter]['ДО'].values) > 0:\n",
    "        #Дата оформления заказа\n",
    "        return pd.Series([df[filter]['ДО'].values[0], df[filter]['Дата оформления заказа'].values[0], df[filter]['Дата в произ'].values[0], df[filter]['Дата в Развоз Строка'].values[0]], index=['askona_id', 'askona_date_order', 'askona_send_to_product', 'askona_delivery'])\n",
    "    \n",
    "    str_date = str(date - pd.DateOffset(1)).split(' ')[0]\n",
    "    filter = (find_name) & (df['Дата оформления заказа'] == str_date)\n",
    "    \n",
    "    if len(df[filter]['ДО'].values) > 0:\n",
    "        return pd.Series([df[filter]['ДО'].values[0], df[filter]['Дата оформления заказа'].values[0], df[filter]['Дата в произ'].values[0], df[filter]['Дата в Развоз Строка'].values[0]], index=['askona_id', 'askona_date_order', 'askona_send_to_product', 'askona_delivery'])\n",
    "    \n",
    "    str_date = str(date - pd.DateOffset(2)).split(' ')[0]\n",
    "    filter = (find_name) & (df['Дата оформления заказа'] == str_date)\n",
    "    \n",
    "    if len(df[filter]['ДО'].values) > 0:\n",
    "        return pd.Series([df[filter]['ДО'].values[0], df[filter]['Дата оформления заказа'].values[0], df[filter]['Дата в произ'].values[0], df[filter]['Дата в Развоз Строка'].values[0]], index=['askona_id', 'askona_date_order', 'askona_send_to_product', 'askona_delivery'])\n",
    "    \n",
    "    str_date = str(date - pd.DateOffset(3)).split(' ')[0]\n",
    "    filter = (find_name) & (df['Дата оформления заказа'] == str_date)\n",
    "    \n",
    "    if len(df[filter]['ДО'].values) > 0:\n",
    "        return pd.Series([df[filter]['ДО'].values[0], df[filter]['Дата оформления заказа'].values[0], df[filter]['Дата в произ'].values[0], df[filter]['Дата в Развоз Строка'].values[0]], index=['askona_id', 'askona_date_order', 'askona_send_to_product', 'askona_delivery'])\n",
    "    \n",
    "    str_date = str(date + pd.DateOffset(1)).split(' ')[0]\n",
    "    filter = (find_name) & (df['Дата оформления заказа'] == str_date)\n",
    "    \n",
    "    if len(df[filter]['ДО'].values) > 0:\n",
    "        return pd.Series([df[filter]['ДО'].values[0], df[filter]['Дата оформления заказа'].values[0], df[filter]['Дата в произ'].values[0], df[filter]['Дата в Развоз Строка'].values[0]], index=['askona_id', 'askona_date_order', 'askona_send_to_product', 'askona_delivery'])\n",
    "    \n",
    "    str_date = str(date + pd.DateOffset(2)).split(' ')[0]\n",
    "    filter = (find_name) & (df['Дата оформления заказа'] == str_date)\n",
    "    \n",
    "    if len(df[filter]['ДО'].values) > 0:\n",
    "        return pd.Series([df[filter]['ДО'].values[0], df[filter]['Дата оформления заказа'].values[0], df[filter]['Дата в произ'].values[0], df[filter]['Дата в Развоз Строка'].values[0]], index=['askona_id', 'askona_date_order', 'askona_send_to_product', 'askona_delivery'])"
   ]
  },
  {
   "cell_type": "code",
   "execution_count": 273,
   "metadata": {},
   "outputs": [
    {
     "name": "stderr",
     "output_type": "stream",
     "text": [
      "C:\\Users\\User\\AppData\\Local\\Temp\\ipykernel_15172\\3039434682.py:15: UserWarning: This pattern is interpreted as a regular expression, and has match groups. To actually get the groups, use str.extract.\n",
      "  find_name = df['Контрагент'].str.contains('{}'.format(str(x['contact_name'])))\n"
     ]
    }
   ],
   "source": [
    "# применим\n",
    "data[['askona_id', 'askona_date_order', 'askona_send_to_product', 'askona_delivery']] = data.apply(lambda x: link(x), axis=1)"
   ]
  },
  {
   "cell_type": "code",
   "execution_count": 274,
   "metadata": {},
   "outputs": [],
   "source": [
    "# удалим то, что не удалось связать\n",
    "data = data[~data['askona_id'].isnull()]\n",
    "\n",
    "# удалим заказы с нулевой дистанцией\n",
    "data = data[~data['distance'].isnull()]"
   ]
  },
  {
   "cell_type": "code",
   "execution_count": 275,
   "metadata": {},
   "outputs": [],
   "source": [
    "# получим целевую переменную\n",
    "data['days_order_fineshed'] = data.apply(lambda x: (x['askona_delivery'] - x['send_to_product']).days, axis=1)"
   ]
  },
  {
   "cell_type": "code",
   "execution_count": 276,
   "metadata": {},
   "outputs": [],
   "source": [
    "# количество дней в производстве \n",
    "# поможет для расчета доставки \n",
    "# если пусто, значит матрас был на складе, т.е ставим 0\n",
    "\n",
    "data['days_in_product'] = data[~data['askona_send_to_product'].isna()].apply(\n",
    "    lambda x: (x['askona_send_to_product'] - x['askona_date_order']).days, axis=1)\n",
    "\n",
    "data.loc[data['days_in_product'].isna(), 'days_in_product'] = 0"
   ]
  },
  {
   "cell_type": "code",
   "execution_count": 277,
   "metadata": {},
   "outputs": [],
   "source": [
    "# удалим заказы у которых дата производвства выше чем, дата завершения\n",
    "data = data.query('days_order_fineshed > days_in_product')"
   ]
  },
  {
   "cell_type": "code",
   "execution_count": 278,
   "metadata": {},
   "outputs": [],
   "source": [
    "# функция определения стандартного/нестандартного размера \n",
    "def size(x, standart_size, standart_baby_size, set_size=0):\n",
    "    #for size in standart_size:\n",
    "    size = 0\n",
    "    if x['collection'] == 'Baby':\n",
    "        for s in standart_baby_size:\n",
    "            if s in x['product_name']:\n",
    "                if set_size == 1:\n",
    "                    size = s\n",
    "                else:\n",
    "                    size = 1\n",
    "                break;\n",
    "    else:\n",
    "        for s in standart_size:\n",
    "            if s in x['product_name']:\n",
    "                if set_size == 1:\n",
    "                    size = s\n",
    "                else:\n",
    "                    size = 1\n",
    "                break;\n",
    "    return size"
   ]
  },
  {
   "cell_type": "code",
   "execution_count": 279,
   "metadata": {},
   "outputs": [],
   "source": [
    "# получим стандарт / не стандарт\n",
    "data['standart_size'] = data.apply(lambda x: size(x, STANDART_SIZE, STANDART_BABY_SIZE), axis=1)"
   ]
  },
  {
   "cell_type": "code",
   "execution_count": 280,
   "metadata": {},
   "outputs": [],
   "source": [
    "# заполним наличие\n",
    "data.loc[data['askona_send_to_product'].isnull(), 'in_stock'] = 1\n",
    "data.loc[~data['askona_send_to_product'].isnull(), 'in_stock'] = 0"
   ]
  },
  {
   "cell_type": "code",
   "execution_count": 281,
   "metadata": {},
   "outputs": [],
   "source": [
    "# получим месяц, день недели и день оформления заказа\n",
    "\n",
    "data['month'] = data['askona_date_order'].apply(lambda x: x.month)\n",
    "data['day'] = data['askona_date_order'].apply(lambda x: x.day)\n",
    "data['dayofweek'] = data['askona_date_order'].apply(lambda x: x.dayofweek)"
   ]
  },
  {
   "cell_type": "code",
   "execution_count": 282,
   "metadata": {},
   "outputs": [],
   "source": [
    "# количество дней в доставке\n",
    "data['days_delivery'] = data.apply(lambda x: (x['askona_delivery'] - x['askona_send_to_product']).days, axis=1)"
   ]
  },
  {
   "cell_type": "code",
   "execution_count": 283,
   "metadata": {},
   "outputs": [],
   "source": [
    "# функция генерации сезонности\n",
    "# т.к скорость доставки зависит от времени года\n",
    "def seazon(x):\n",
    "    month = x['month']\n",
    "    if month in [1, 2, 3]:\n",
    "        return 1\n",
    "    elif month in [4, 5, 6]:\n",
    "        return 2\n",
    "    elif month in [7, 8, 9]:\n",
    "        return 3\n",
    "    return 4"
   ]
  },
  {
   "cell_type": "code",
   "execution_count": 284,
   "metadata": {},
   "outputs": [],
   "source": [
    "# узнаем сезон\n",
    "data['seazon'] = data.apply(lambda x: seazon(x), axis=1)\n",
    "data_grouped = data.groupby(['region_id', 'seazon'])[['days_in_product', 'days_delivery']].mean().reset_index()\n",
    "\n",
    "# сохраним файл для использования в готовой модельке\n",
    "data_grouped.to_csv('grouped_data.csv')"
   ]
  },
  {
   "cell_type": "code",
   "execution_count": 285,
   "metadata": {},
   "outputs": [],
   "source": [
    "# расчет среднего времени в производстве\n",
    "# расчет среднего времени доставки\n",
    "# по сезонам\n",
    "data['avg_time_in_product'] = data.apply(\n",
    "    lambda x: data_grouped[(data_grouped['seazon'] == x['seazon']) & (data_grouped['region_id'] == x['region_id'])]['days_in_product'].values[0], axis=1)\n",
    "\n",
    "data['avg_time_in_delivery'] = data.apply(\n",
    "    lambda x: data_grouped[(data_grouped['seazon'] == x['seazon']) & (data_grouped['region_id'] == x['region_id'])]['days_delivery'].values[0], axis=1)"
   ]
  },
  {
   "cell_type": "code",
   "execution_count": 286,
   "metadata": {},
   "outputs": [],
   "source": [
    "# разница между созданием заказа\n",
    "# передачу в аскону\n",
    "data['diff_time_sm_askona'] = data.apply(lambda x:((x['askona_date_order'] - x['create_datetime']).days), axis=1)\n",
    "data['diff_time_sm_askona'] = data.apply(lambda x: 0 if x['diff_time_sm_askona'] < 0 else x['diff_time_sm_askona'], axis=1)"
   ]
  },
  {
   "cell_type": "code",
   "execution_count": 287,
   "metadata": {},
   "outputs": [],
   "source": [
    "data_grouped = data.groupby(['region_id', 'seazon'])[['diff_time_sm_askona']].mean().reset_index()\n",
    "\n",
    "data['avg_diff_time_sm_askona'] = data.apply(\n",
    "    lambda x: data_grouped[(data_grouped['seazon'] == x['seazon']) & (data_grouped['region_id'] == x['region_id'])]['diff_time_sm_askona'].values[0], axis=1)"
   ]
  },
  {
   "cell_type": "code",
   "execution_count": 288,
   "metadata": {},
   "outputs": [],
   "source": [
    "# Все что выше 55 дней считаем выбросами\n",
    "# т.к макс срок ожидания до месяца, в новый год до 1.5 месяца\n",
    "# все что менее суток же выбросы, т.к есть процесс соглосования заказа\n",
    "# удалям записи без геопозиций\n",
    " \n",
    "data = data.query('days_order_fineshed > 1')\n",
    "data = data.query('days_order_fineshed < 55')\n",
    "data = data[data['client_lat'] != '']"
   ]
  },
  {
   "cell_type": "code",
   "execution_count": 289,
   "metadata": {},
   "outputs": [],
   "source": [
    "# пустые значения доставки\n",
    "# заполним средним и минимальным в двое суток\n",
    "data.loc[data['days_delivery'].isnull(), 'days_delivery'] = data['days_delivery'].mean()\n",
    "data.loc[data['avg_time_in_delivery'].isnull(), 'avg_time_in_delivery'] = 2"
   ]
  },
  {
   "cell_type": "code",
   "execution_count": 290,
   "metadata": {},
   "outputs": [
    {
     "name": "stdout",
     "output_type": "stream",
     "text": [
      "<class 'pandas.core.frame.DataFrame'>\n",
      "Int64Index: 1146 entries, 1 to 1823\n",
      "Data columns (total 28 columns):\n",
      " #   Column                   Non-Null Count  Dtype         \n",
      "---  ------                   --------------  -----         \n",
      " 0   id                       1146 non-null   int64         \n",
      " 1   create_datetime          1146 non-null   datetime64[ns]\n",
      " 2   contact_name             1146 non-null   object        \n",
      " 3   product_name             1146 non-null   object        \n",
      " 4   collection               1146 non-null   object        \n",
      " 5   region_id                1146 non-null   object        \n",
      " 6   distance                 1146 non-null   object        \n",
      " 7   duration                 1146 non-null   object        \n",
      " 8   client_lat               1146 non-null   object        \n",
      " 9   client_lng               1146 non-null   object        \n",
      " 10  send_to_product          1146 non-null   datetime64[ns]\n",
      " 11  askona_id                1146 non-null   object        \n",
      " 12  askona_date_order        1146 non-null   datetime64[ns]\n",
      " 13  askona_send_to_product   812 non-null    datetime64[ns]\n",
      " 14  askona_delivery          1146 non-null   datetime64[ns]\n",
      " 15  days_order_fineshed      1146 non-null   float64       \n",
      " 16  days_in_product          1146 non-null   float64       \n",
      " 17  standart_size            1146 non-null   int64         \n",
      " 18  in_stock                 1146 non-null   float64       \n",
      " 19  month                    1146 non-null   int64         \n",
      " 20  day                      1146 non-null   int64         \n",
      " 21  dayofweek                1146 non-null   int64         \n",
      " 22  days_delivery            1146 non-null   float64       \n",
      " 23  seazon                   1146 non-null   int64         \n",
      " 24  avg_time_in_product      1146 non-null   float64       \n",
      " 25  avg_time_in_delivery     1146 non-null   float64       \n",
      " 26  diff_time_sm_askona      1146 non-null   int64         \n",
      " 27  avg_diff_time_sm_askona  1146 non-null   float64       \n",
      "dtypes: datetime64[ns](5), float64(7), int64(7), object(9)\n",
      "memory usage: 259.6+ KB\n"
     ]
    }
   ],
   "source": [
    "# итоговый датасет \n",
    "data.info()"
   ]
  },
  {
   "attachments": {},
   "cell_type": "markdown",
   "metadata": {},
   "source": [
    "### Вывод"
   ]
  },
  {
   "attachments": {},
   "cell_type": "markdown",
   "metadata": {},
   "source": [
    "В результате предподготовки выяснилось, что данных для создания модели недостаточно. Данные были получены с помощью дополнительных сервисов, файлов с заказами от поставщика. Целевая переменная была пересмотрена."
   ]
  },
  {
   "attachments": {},
   "cell_type": "markdown",
   "metadata": {},
   "source": [
    "## 2. Исследовательский анализ данных"
   ]
  },
  {
   "cell_type": "code",
   "execution_count": 291,
   "metadata": {},
   "outputs": [
    {
     "data": {
      "text/html": [
       "<div>\n",
       "<style scoped>\n",
       "    .dataframe tbody tr th:only-of-type {\n",
       "        vertical-align: middle;\n",
       "    }\n",
       "\n",
       "    .dataframe tbody tr th {\n",
       "        vertical-align: top;\n",
       "    }\n",
       "\n",
       "    .dataframe thead th {\n",
       "        text-align: right;\n",
       "    }\n",
       "</style>\n",
       "<table border=\"1\" class=\"dataframe\">\n",
       "  <thead>\n",
       "    <tr style=\"text-align: right;\">\n",
       "      <th></th>\n",
       "      <th>id</th>\n",
       "      <th>create_datetime</th>\n",
       "      <th>contact_name</th>\n",
       "      <th>product_name</th>\n",
       "      <th>collection</th>\n",
       "      <th>region_id</th>\n",
       "      <th>distance</th>\n",
       "      <th>duration</th>\n",
       "      <th>client_lat</th>\n",
       "      <th>client_lng</th>\n",
       "      <th>...</th>\n",
       "      <th>in_stock</th>\n",
       "      <th>month</th>\n",
       "      <th>day</th>\n",
       "      <th>dayofweek</th>\n",
       "      <th>days_delivery</th>\n",
       "      <th>seazon</th>\n",
       "      <th>avg_time_in_product</th>\n",
       "      <th>avg_time_in_delivery</th>\n",
       "      <th>diff_time_sm_askona</th>\n",
       "      <th>avg_diff_time_sm_askona</th>\n",
       "    </tr>\n",
       "  </thead>\n",
       "  <tbody>\n",
       "    <tr>\n",
       "      <th>1</th>\n",
       "      <td>34454</td>\n",
       "      <td>2023-01-22 11:01:01</td>\n",
       "      <td>Белых Марина</td>\n",
       "      <td>Матрас Аскона 3.0 Comfort Firm, 140 x 180</td>\n",
       "      <td>Askona 3.0</td>\n",
       "      <td>42</td>\n",
       "      <td>3690136.7</td>\n",
       "      <td>3690136.7</td>\n",
       "      <td>53.7508</td>\n",
       "      <td>87.11645</td>\n",
       "      <td>...</td>\n",
       "      <td>0.0</td>\n",
       "      <td>1</td>\n",
       "      <td>22</td>\n",
       "      <td>6</td>\n",
       "      <td>7.000000</td>\n",
       "      <td>1</td>\n",
       "      <td>12.666667</td>\n",
       "      <td>10.500000</td>\n",
       "      <td>0</td>\n",
       "      <td>0.0</td>\n",
       "    </tr>\n",
       "    <tr>\n",
       "      <th>3</th>\n",
       "      <td>35151</td>\n",
       "      <td>2023-02-12 09:56:11</td>\n",
       "      <td>Чистяков Михаил</td>\n",
       "      <td>Матрас Аскона 3.0 Comfort Firm (120 x 186)</td>\n",
       "      <td>Askona 3.0</td>\n",
       "      <td>66</td>\n",
       "      <td>1841599.8</td>\n",
       "      <td>1841599.8</td>\n",
       "      <td>57.451456</td>\n",
       "      <td>61.171112</td>\n",
       "      <td>...</td>\n",
       "      <td>0.0</td>\n",
       "      <td>2</td>\n",
       "      <td>16</td>\n",
       "      <td>3</td>\n",
       "      <td>11.000000</td>\n",
       "      <td>1</td>\n",
       "      <td>6.933333</td>\n",
       "      <td>9.066667</td>\n",
       "      <td>3</td>\n",
       "      <td>0.8</td>\n",
       "    </tr>\n",
       "    <tr>\n",
       "      <th>5</th>\n",
       "      <td>36852</td>\n",
       "      <td>2023-04-29 08:40:10</td>\n",
       "      <td>Коростелёв Вячеслав</td>\n",
       "      <td>Матрас Аскона 3.0 Comfort Firm (180 x 200)</td>\n",
       "      <td>Askona 3.0</td>\n",
       "      <td>67</td>\n",
       "      <td>450034.3</td>\n",
       "      <td>450034.3</td>\n",
       "      <td>54.7747905</td>\n",
       "      <td>31.9133497</td>\n",
       "      <td>...</td>\n",
       "      <td>1.0</td>\n",
       "      <td>4</td>\n",
       "      <td>29</td>\n",
       "      <td>5</td>\n",
       "      <td>7.652709</td>\n",
       "      <td>2</td>\n",
       "      <td>0.000000</td>\n",
       "      <td>2.000000</td>\n",
       "      <td>0</td>\n",
       "      <td>0.0</td>\n",
       "    </tr>\n",
       "  </tbody>\n",
       "</table>\n",
       "<p>3 rows × 28 columns</p>\n",
       "</div>"
      ],
      "text/plain": [
       "      id     create_datetime         contact_name  \\\n",
       "1  34454 2023-01-22 11:01:01         Белых Марина   \n",
       "3  35151 2023-02-12 09:56:11      Чистяков Михаил   \n",
       "5  36852 2023-04-29 08:40:10  Коростелёв Вячеслав   \n",
       "\n",
       "                                 product_name  collection region_id  \\\n",
       "1   Матрас Аскона 3.0 Comfort Firm, 140 x 180  Askona 3.0        42   \n",
       "3  Матрас Аскона 3.0 Comfort Firm (120 x 186)  Askona 3.0        66   \n",
       "5  Матрас Аскона 3.0 Comfort Firm (180 x 200)  Askona 3.0        67   \n",
       "\n",
       "    distance   duration  client_lat  client_lng  ... in_stock month day  \\\n",
       "1  3690136.7  3690136.7     53.7508    87.11645  ...      0.0     1  22   \n",
       "3  1841599.8  1841599.8   57.451456   61.171112  ...      0.0     2  16   \n",
       "5   450034.3   450034.3  54.7747905  31.9133497  ...      1.0     4  29   \n",
       "\n",
       "  dayofweek days_delivery  seazon  avg_time_in_product  avg_time_in_delivery  \\\n",
       "1         6      7.000000       1            12.666667             10.500000   \n",
       "3         3     11.000000       1             6.933333              9.066667   \n",
       "5         5      7.652709       2             0.000000              2.000000   \n",
       "\n",
       "   diff_time_sm_askona  avg_diff_time_sm_askona  \n",
       "1                    0                      0.0  \n",
       "3                    3                      0.8  \n",
       "5                    0                      0.0  \n",
       "\n",
       "[3 rows x 28 columns]"
      ]
     },
     "execution_count": 291,
     "metadata": {},
     "output_type": "execute_result"
    }
   ],
   "source": [
    "data.head(3)"
   ]
  },
  {
   "attachments": {},
   "cell_type": "markdown",
   "metadata": {},
   "source": [
    "Гипотеза: Среднее время доставки зависит от коллекции."
   ]
  },
  {
   "cell_type": "code",
   "execution_count": 292,
   "metadata": {},
   "outputs": [],
   "source": [
    "def show_hist(first_name, last_name, look='mean'):\n",
    "    \n",
    "    if look == 'mean':\n",
    "        data_grouped_collection = data.groupby(first_name)[last_name].mean()\n",
    "    elif look == 'median':\n",
    "        data_grouped_collection = data.groupby(first_name)[last_name].median()\n",
    "    elif look == 'count':\n",
    "        data_grouped_collection = data.groupby(first_name)[last_name].count()   \n",
    "\n",
    "    data_grouped_collection = data_grouped_collection.sort_values(ascending=False).reset_index()\n",
    "\n",
    "    sns.barplot(data_grouped_collection, x=data_grouped_collection[first_name], y=data_grouped_collection[last_name])\n",
    "    plt.xticks(rotation=90)\n",
    "    plt.grid(True)\n",
    "    plt.autoscale(axis='x',tight=True)\n",
    "    plt.show()"
   ]
  },
  {
   "cell_type": "code",
   "execution_count": 293,
   "metadata": {},
   "outputs": [
    {
     "data": {
      "image/png": "[encoded data removed]",
      "text/plain": [
       "<Figure size 640x480 with 1 Axes>"
      ]
     },
     "metadata": {},
     "output_type": "display_data"
    }
   ],
   "source": [
    "show_hist('collection', 'days_order_fineshed', 'mean')"
   ]
  },
  {
   "attachments": {},
   "cell_type": "markdown",
   "metadata": {},
   "source": [
    "Действительно, время доставки зависит от коллекции. Предположим, что на производстве несколько линий и на популярные коллекции производитель подключает дополнительные мощности."
   ]
  },
  {
   "attachments": {},
   "cell_type": "markdown",
   "metadata": {},
   "source": [
    "Посмотрим на количество проданных матрасов по коллекциям."
   ]
  },
  {
   "cell_type": "code",
   "execution_count": 294,
   "metadata": {},
   "outputs": [
    {
     "data": {
      "image/png": "[encoded data removed]",
      "text/plain": [
       "<Figure size 640x480 with 1 Axes>"
      ]
     },
     "metadata": {},
     "output_type": "display_data"
    }
   ],
   "source": [
    "show_hist('collection', 'days_order_fineshed', 'count')"
   ]
  },
  {
   "attachments": {},
   "cell_type": "markdown",
   "metadata": {},
   "source": [
    "Самая продаваемая коллекция **Balnace**, а HomeSleep на последнем месте. "
   ]
  },
  {
   "attachments": {},
   "cell_type": "markdown",
   "metadata": {},
   "source": [
    "Вероятнее всего скорость доставки зависит от наличия товара на складе, посмотри насколько разница."
   ]
  },
  {
   "cell_type": "code",
   "execution_count": 295,
   "metadata": {},
   "outputs": [
    {
     "data": {
      "image/png": "[encoded data removed]",
      "text/plain": [
       "<Figure size 640x480 with 1 Axes>"
      ]
     },
     "metadata": {},
     "output_type": "display_data"
    }
   ],
   "source": [
    "show_hist('in_stock', 'days_order_fineshed', 'median')"
   ]
  },
  {
   "attachments": {},
   "cell_type": "markdown",
   "metadata": {},
   "source": [
    "Если товар в налчии то, доставка более чем в два раза быстрее."
   ]
  },
  {
   "attachments": {},
   "cell_type": "markdown",
   "metadata": {},
   "source": [
    "Матрасы бывают стандартного и не стандартного размера, для нестандартного размера другие этапы оформления заказа, по этому чаще всего они задерживаются. Посмотрим на графиках так ли это."
   ]
  },
  {
   "cell_type": "code",
   "execution_count": 296,
   "metadata": {},
   "outputs": [
    {
     "data": {
      "image/png": "[encoded data removed]",
      "text/plain": [
       "<Figure size 640x480 with 1 Axes>"
      ]
     },
     "metadata": {},
     "output_type": "display_data"
    }
   ],
   "source": [
    "show_hist('standart_size', 'days_order_fineshed', 'median')"
   ]
  },
  {
   "attachments": {},
   "cell_type": "markdown",
   "metadata": {},
   "source": [
    "Интересно, а продается больше стандартов или не стандартов?"
   ]
  },
  {
   "cell_type": "code",
   "execution_count": 297,
   "metadata": {},
   "outputs": [
    {
     "data": {
      "image/png": "[encoded data removed]",
      "text/plain": [
       "<Figure size 640x480 with 1 Axes>"
      ]
     },
     "metadata": {},
     "output_type": "display_data"
    }
   ],
   "source": [
    "show_hist('standart_size', 'days_order_fineshed', 'count')"
   ]
  },
  {
   "attachments": {},
   "cell_type": "markdown",
   "metadata": {},
   "source": [
    "Как меняются сроки доставки от сезона?"
   ]
  },
  {
   "cell_type": "code",
   "execution_count": 298,
   "metadata": {},
   "outputs": [
    {
     "data": {
      "image/png": "[encoded data removed]",
      "text/plain": [
       "<Figure size 640x480 with 1 Axes>"
      ]
     },
     "metadata": {},
     "output_type": "display_data"
    }
   ],
   "source": [
    "show_hist('seazon', 'days_delivery', 'mean')"
   ]
  },
  {
   "attachments": {},
   "cell_type": "markdown",
   "metadata": {},
   "source": [
    "Сроки доставки Весной - Летом наименьшие, в отличии от Осень - Зима. Как погода затрудняет доставку, так и праздники!"
   ]
  },
  {
   "attachments": {},
   "cell_type": "markdown",
   "metadata": {},
   "source": [
    "А нагрузка на производство?"
   ]
  },
  {
   "cell_type": "code",
   "execution_count": 299,
   "metadata": {},
   "outputs": [
    {
     "data": {
      "image/png": "[encoded data removed]",
      "text/plain": [
       "<Figure size 640x480 with 1 Axes>"
      ]
     },
     "metadata": {},
     "output_type": "display_data"
    }
   ],
   "source": [
    "show_hist('seazon', 'days_in_product', 'mean')"
   ]
  },
  {
   "attachments": {},
   "cell_type": "markdown",
   "metadata": {},
   "source": [
    "Осенью-зимой нагрузка возрастает, а весна - лето падает. Матрасы - сезонный товар, а зимоей еще и длинные выходные."
   ]
  },
  {
   "attachments": {},
   "cell_type": "markdown",
   "metadata": {},
   "source": [
    "### Вывод"
   ]
  },
  {
   "attachments": {},
   "cell_type": "markdown",
   "metadata": {},
   "source": [
    "Были првоерены основные утверждения заказчика, о том что сроки доставки зависят от:\n",
    "* наличия на складе\n",
    "* от стандартного / не стандартного рзамера\n",
    "* от коллекции\n",
    "\n",
    "Эти утверждения оказались верными.\n",
    "\n",
    "Хочется отдельно отметить что сроки доставки зависят от сезонности как погодной так и сезонности товара."
   ]
  },
  {
   "attachments": {},
   "cell_type": "markdown",
   "metadata": {},
   "source": [
    "## 3. Обучение модели"
   ]
  },
  {
   "attachments": {},
   "cell_type": "markdown",
   "metadata": {},
   "source": [
    "Данных для обучение и тестирования не много, по этому выбрали три модели:\n",
    "\n",
    "* Линейная регрессия\n",
    "* Случайный лес\n",
    "* CatBoost"
   ]
  },
  {
   "cell_type": "code",
   "execution_count": 300,
   "metadata": {},
   "outputs": [],
   "source": [
    "# разобьем на трейн и тест выборку\n",
    "drop_columns = ['id',\n",
    "                'contact_name',\n",
    "                'product_name',\n",
    "                'send_to_product',\n",
    "                'askona_id',\n",
    "                'askona_date_order',\n",
    "                'askona_send_to_product',\n",
    "                'askona_delivery',\n",
    "                'days_order_fineshed',\n",
    "                'days_in_product',\n",
    "                'days_delivery',\n",
    "                #'seazon',\n",
    "                'create_datetime',\n",
    "                #'diff_time_sm_askona',\n",
    "                ] \n",
    "X_train, X_test, y_train, y_test = train_test_split(data.drop(drop_columns, axis=1), \n",
    "                                                    data['days_order_fineshed'],\n",
    "                                                    shuffle=True,\n",
    "                                                    test_size=0.2,\n",
    "                                                    random_state=RANDOM_STATE)"
   ]
  },
  {
   "cell_type": "code",
   "execution_count": 301,
   "metadata": {},
   "outputs": [],
   "source": [
    "metrics = pd.DataFrame()"
   ]
  },
  {
   "cell_type": "code",
   "execution_count": 302,
   "metadata": {},
   "outputs": [],
   "source": [
    "# стандартизируем данные\n",
    "standard = StandardScaler()\n",
    "columns = ['distance', \n",
    "           'duration', \n",
    "           'in_stock', \n",
    "           'standart_size', \n",
    "           'client_lat', \n",
    "           'client_lng', \n",
    "           'month', \n",
    "           'day', \n",
    "           'seazon',\n",
    "           'dayofweek', \n",
    "           'avg_time_in_product', \n",
    "           'avg_time_in_delivery', \n",
    "           'avg_diff_time_sm_askona']\n",
    "\n",
    "standard.fit(X_train[columns])\n",
    "\n",
    "X_train[columns] = standard.transform(X_train[columns])\n",
    "X_test[columns] = standard.transform(X_test[columns])"
   ]
  },
  {
   "cell_type": "code",
   "execution_count": 303,
   "metadata": {},
   "outputs": [
    {
     "name": "stdout",
     "output_type": "stream",
     "text": [
      "<class 'pandas.core.frame.DataFrame'>\n",
      "Int64Index: 916 entries, 1216 to 1787\n",
      "Data columns (total 16 columns):\n",
      " #   Column                   Non-Null Count  Dtype  \n",
      "---  ------                   --------------  -----  \n",
      " 0   collection               916 non-null    object \n",
      " 1   region_id                916 non-null    object \n",
      " 2   distance                 916 non-null    float64\n",
      " 3   duration                 916 non-null    float64\n",
      " 4   client_lat               916 non-null    float64\n",
      " 5   client_lng               916 non-null    float64\n",
      " 6   standart_size            916 non-null    float64\n",
      " 7   in_stock                 916 non-null    float64\n",
      " 8   month                    916 non-null    float64\n",
      " 9   day                      916 non-null    float64\n",
      " 10  dayofweek                916 non-null    float64\n",
      " 11  seazon                   916 non-null    float64\n",
      " 12  avg_time_in_product      916 non-null    float64\n",
      " 13  avg_time_in_delivery     916 non-null    float64\n",
      " 14  diff_time_sm_askona      916 non-null    int64  \n",
      " 15  avg_diff_time_sm_askona  916 non-null    float64\n",
      "dtypes: float64(13), int64(1), object(2)\n",
      "memory usage: 121.7+ KB\n"
     ]
    }
   ],
   "source": [
    "X_train.info()"
   ]
  },
  {
   "cell_type": "code",
   "execution_count": 304,
   "metadata": {},
   "outputs": [],
   "source": [
    "# сохраним обученый скаллер\n",
    "pickle.dump(standard, open('scaler_v2.pkl','wb'))\n",
    "data.to_csv('data_v2.csv')"
   ]
  },
  {
   "cell_type": "code",
   "execution_count": 305,
   "metadata": {},
   "outputs": [],
   "source": [
    "# Порядковое кодирование для категориальных переменных\n",
    "ordinal = OrdinalEncoder()\n",
    "X_ordinal = X_train.copy()\n",
    "columns = ['collection']\n",
    "\n",
    "X_ordinal[columns] = ordinal.fit_transform(X_ordinal[columns])\n",
    "\n",
    "standard = StandardScaler()\n",
    "columns = ['collection', 'region_id']\n",
    "standard.fit(X_ordinal[columns])\n",
    "X_ordinal[columns] = standard.transform(X_ordinal[columns])"
   ]
  },
  {
   "attachments": {},
   "cell_type": "markdown",
   "metadata": {},
   "source": [
    "#"
   ]
  },
  {
   "cell_type": "code",
   "execution_count": 306,
   "metadata": {},
   "outputs": [],
   "source": [
    "# функция для обучения моделей\n",
    "def models(model, params, X_train, y_train, metrics, model_name): \n",
    "\n",
    "    clf = RandomizedSearchCV(model, \n",
    "                             params, \n",
    "                             n_jobs=4, \n",
    "                             scoring='neg_root_mean_squared_error', \n",
    "                             random_state=RANDOM_STATE,\n",
    "                             cv=4)\n",
    "    search = clf.fit(X_train, y_train) \n",
    "\n",
    "    if len(metrics) > 0:\n",
    "        metrics = metrics.append(pd.DataFrame({\n",
    "            'RMSE': -1 * search.best_score_\n",
    "        }, index=[model_name])) \n",
    "        return search, metrics\n",
    "    return search"
   ]
  },
  {
   "cell_type": "code",
   "execution_count": 307,
   "metadata": {},
   "outputs": [
    {
     "name": "stderr",
     "output_type": "stream",
     "text": [
      "C:\\Users\\User\\AppData\\Local\\Temp\\ipykernel_15172\\1036320325.py:3: FutureWarning: The frame.append method is deprecated and will be removed from pandas in a future version. Use pandas.concat instead.\n",
      "  metrics = metrics.append(pd.DataFrame({\n"
     ]
    }
   ],
   "source": [
    "model = LinearRegression()\n",
    "\n",
    "metrics = metrics.append(pd.DataFrame({\n",
    "        'RMSE': -1 * cross_val_score(model, X_ordinal, y_train, scoring='neg_mean_squared_error', cv=4).mean()\n",
    "    }, index=['Base LinearRegression']))  "
   ]
  },
  {
   "cell_type": "code",
   "execution_count": 308,
   "metadata": {},
   "outputs": [
    {
     "name": "stderr",
     "output_type": "stream",
     "text": [
      "c:\\Users\\User\\AppData\\Local\\Programs\\Python\\Python310\\lib\\site-packages\\sklearn\\model_selection\\_search.py:306: UserWarning: The total space of parameters 1 is smaller than n_iter=10. Running 1 iterations. For exhaustive searches, use GridSearchCV.\n",
      "  warnings.warn(\n"
     ]
    },
    {
     "name": "stderr",
     "output_type": "stream",
     "text": [
      "C:\\Users\\User\\AppData\\Local\\Temp\\ipykernel_15172\\4026813518.py:13: FutureWarning: The frame.append method is deprecated and will be removed from pandas in a future version. Use pandas.concat instead.\n",
      "  metrics = metrics.append(pd.DataFrame({\n"
     ]
    }
   ],
   "source": [
    "model = RandomForestRegressor(random_state=RANDOM_STATE)\n",
    "search, metrics = models(model, {}, X_ordinal, y_train, metrics, 'Base RandomForestRegressor')"
   ]
  },
  {
   "cell_type": "code",
   "execution_count": 309,
   "metadata": {},
   "outputs": [
    {
     "name": "stderr",
     "output_type": "stream",
     "text": [
      "c:\\Users\\User\\AppData\\Local\\Programs\\Python\\Python310\\lib\\site-packages\\sklearn\\model_selection\\_search.py:306: UserWarning: The total space of parameters 1 is smaller than n_iter=10. Running 1 iterations. For exhaustive searches, use GridSearchCV.\n",
      "  warnings.warn(\n",
      "C:\\Users\\User\\AppData\\Local\\Temp\\ipykernel_15172\\4026813518.py:13: FutureWarning: The frame.append method is deprecated and will be removed from pandas in a future version. Use pandas.concat instead.\n",
      "  metrics = metrics.append(pd.DataFrame({\n"
     ]
    }
   ],
   "source": [
    "model = CatBoostRegressor(loss_function='RMSE', \n",
    "                          cat_features=['region_id', 'collection'],\n",
    "                          silent=True,\n",
    "                          random_state=RANDOM_STATE,\n",
    "                          )\n",
    "search, metrics = models(model, {}, X_train, y_train, metrics, 'Base CatBoostRegressor')"
   ]
  },
  {
   "cell_type": "code",
   "execution_count": 310,
   "metadata": {},
   "outputs": [
    {
     "data": {
      "text/html": [
       "<div>\n",
       "<style scoped>\n",
       "    .dataframe tbody tr th:only-of-type {\n",
       "        vertical-align: middle;\n",
       "    }\n",
       "\n",
       "    .dataframe tbody tr th {\n",
       "        vertical-align: top;\n",
       "    }\n",
       "\n",
       "    .dataframe thead th {\n",
       "        text-align: right;\n",
       "    }\n",
       "</style>\n",
       "<table border=\"1\" class=\"dataframe\">\n",
       "  <thead>\n",
       "    <tr style=\"text-align: right;\">\n",
       "      <th></th>\n",
       "      <th>RMSE</th>\n",
       "    </tr>\n",
       "  </thead>\n",
       "  <tbody>\n",
       "    <tr>\n",
       "      <th>Base LinearRegression</th>\n",
       "      <td>25.785167</td>\n",
       "    </tr>\n",
       "    <tr>\n",
       "      <th>Base RandomForestRegressor</th>\n",
       "      <td>5.052521</td>\n",
       "    </tr>\n",
       "    <tr>\n",
       "      <th>Base CatBoostRegressor</th>\n",
       "      <td>4.944879</td>\n",
       "    </tr>\n",
       "  </tbody>\n",
       "</table>\n",
       "</div>"
      ],
      "text/plain": [
       "                                 RMSE\n",
       "Base LinearRegression       25.785167\n",
       "Base RandomForestRegressor   5.052521\n",
       "Base CatBoostRegressor       4.944879"
      ]
     },
     "execution_count": 310,
     "metadata": {},
     "output_type": "execute_result"
    }
   ],
   "source": [
    "metrics"
   ]
  },
  {
   "attachments": {},
   "cell_type": "markdown",
   "metadata": {},
   "source": [
    "Лучшая базовая модель Catboost. Проверим на тестовой выборке и подберем параметры."
   ]
  },
  {
   "attachments": {},
   "cell_type": "markdown",
   "metadata": {},
   "source": [
    "## 3. Проверка модели"
   ]
  },
  {
   "attachments": {},
   "cell_type": "markdown",
   "metadata": {},
   "source": [
    "Подберем параметры для лучшей модели и проверим ее на тестовой выборке."
   ]
  },
  {
   "cell_type": "code",
   "execution_count": 311,
   "metadata": {},
   "outputs": [],
   "source": [
    "params = {'learning_rate': np.arange(0.01, 0.3, 0.005),\n",
    "          'depth': [4, 6, 10],\n",
    "          'reg_lambda': [1, 3, 5, 6, 7]} \n",
    " \n",
    "#params = {'reg_lambda': [1], 'learning_rate': [0.034999999999999996], 'depth': [10]}\n",
    "\n",
    "model = CatBoostRegressor(grow_policy='Depthwise', \n",
    "                          score_function='L2', \n",
    "                          loss_function='RMSE', \n",
    "                          cat_features=['region_id', 'collection'], \n",
    "                          silent=True, \n",
    "                          random_state=RANDOM_STATE)\n",
    "\n",
    "cb_model = models(model, params, X_train, y_train, [], 'CatBoost')"
   ]
  },
  {
   "cell_type": "code",
   "execution_count": 312,
   "metadata": {},
   "outputs": [
    {
     "name": "stdout",
     "output_type": "stream",
     "text": [
      "RMSE: 3.6392743770195333\n"
     ]
    }
   ],
   "source": [
    "\n",
    "#model.save_model('delivery_model_v2')\n",
    "X_test['real'] = y_test\n",
    "X_test['pred'] = cb_model.predict(X_test)\n",
    "print(\"RMSE:\", mean_squared_error(y_test, X_test['pred']) ** 0.5)"
   ]
  },
  {
   "attachments": {},
   "cell_type": "markdown",
   "metadata": {},
   "source": [
    "Посмотрим на важность признаков."
   ]
  },
  {
   "cell_type": "code",
   "execution_count": 313,
   "metadata": {},
   "outputs": [
    {
     "data": {
      "image/png": "[encoded data removed]",
      "text/plain": [
       "<Figure size 1200x600 with 1 Axes>"
      ]
     },
     "metadata": {},
     "output_type": "display_data"
    }
   ],
   "source": [
    "feaure_importance = pd.Series(cb_model.best_estimator_.feature_importances_, X_train.columns)\n",
    "feaure_importance = feaure_importance.sort_values(ascending=False)\n",
    "fig, ax = plt.subplots(figsize=(12, 6))\n",
    "feaure_importance.plot.bar(ax=ax)\n",
    "ax.set_title(\"Важность признаков\")\n",
    "ax.set_ylabel('Важность, %')\n",
    "fig.tight_layout()"
   ]
  },
  {
   "attachments": {},
   "cell_type": "markdown",
   "metadata": {},
   "source": [
    "## 4. Общий вывод"
   ]
  },
  {
   "attachments": {},
   "cell_type": "markdown",
   "metadata": {},
   "source": [
    "В данном проекте были проблемы с заполнением и нехваткой необходимых признаков. Неправильно заполненные признаки были исправлены, дополнительные данные были сгенерированы при помощи двух сервисов:\n",
    "* Dadata\n",
    "* project-osrm.org\n",
    "\n",
    "В результате анализа выявили, что необходимо пересмотреть целевой признак, т.к он включает в себя время обработки заказа менеджером, а его нужно исключить. Выяснилось, что есть история заказов и дата доставки в файлах которые производитель присылает на почту ежедневно. Из этих файлов так же получилось извлечь доп. признаки.\n"
   ]
  },
  {
   "attachments": {},
   "cell_type": "markdown",
   "metadata": {},
   "source": [
    "Так же подтвердилось что, сроки доставки зависят от:\n",
    "\n",
    "* Коллекции\n",
    "* Стандартного / не стандартного размера товара\n",
    "* Загруженности производства, а загруженность зависит от сезонности товара.\n",
    "* Доставка так же зависит от сезонности."
   ]
  },
  {
   "attachments": {},
   "cell_type": "markdown",
   "metadata": {},
   "source": [
    "Обучили три базовые модели:"
   ]
  },
  {
   "cell_type": "code",
   "execution_count": 314,
   "metadata": {},
   "outputs": [
    {
     "data": {
      "text/html": [
       "<div>\n",
       "<style scoped>\n",
       "    .dataframe tbody tr th:only-of-type {\n",
       "        vertical-align: middle;\n",
       "    }\n",
       "\n",
       "    .dataframe tbody tr th {\n",
       "        vertical-align: top;\n",
       "    }\n",
       "\n",
       "    .dataframe thead th {\n",
       "        text-align: right;\n",
       "    }\n",
       "</style>\n",
       "<table border=\"1\" class=\"dataframe\">\n",
       "  <thead>\n",
       "    <tr style=\"text-align: right;\">\n",
       "      <th></th>\n",
       "      <th>RMSE</th>\n",
       "    </tr>\n",
       "  </thead>\n",
       "  <tbody>\n",
       "    <tr>\n",
       "      <th>Base LinearRegression</th>\n",
       "      <td>25.785167</td>\n",
       "    </tr>\n",
       "    <tr>\n",
       "      <th>Base RandomForestRegressor</th>\n",
       "      <td>5.052521</td>\n",
       "    </tr>\n",
       "    <tr>\n",
       "      <th>Base CatBoostRegressor</th>\n",
       "      <td>4.944879</td>\n",
       "    </tr>\n",
       "  </tbody>\n",
       "</table>\n",
       "</div>"
      ],
      "text/plain": [
       "                                 RMSE\n",
       "Base LinearRegression       25.785167\n",
       "Base RandomForestRegressor   5.052521\n",
       "Base CatBoostRegressor       4.944879"
      ]
     },
     "execution_count": 314,
     "metadata": {},
     "output_type": "execute_result"
    }
   ],
   "source": [
    "metrics"
   ]
  },
  {
   "attachments": {},
   "cell_type": "markdown",
   "metadata": {},
   "source": [
    "Из приведенных выше моделей выбрали лучшую **CatBoost**, подобали гиперпараметры. Результат на тестовой выборке следующий:"
   ]
  },
  {
   "cell_type": "code",
   "execution_count": 315,
   "metadata": {},
   "outputs": [
    {
     "name": "stdout",
     "output_type": "stream",
     "text": [
      "RMSE: 3.6392743770195333\n"
     ]
    }
   ],
   "source": [
    "print(\"RMSE:\", mean_squared_error(y_test, X_test['pred']) ** 0.5)"
   ]
  },
  {
   "attachments": {},
   "cell_type": "markdown",
   "metadata": {},
   "source": [
    "Считаем данную ошибку допустипой для развертывания. Код развертывания можете посмотреть в файле **index_step_2.ipynb**"
   ]
  }
 ],
 "metadata": {
  "kernelspec": {
   "display_name": "Python 3",
   "language": "python",
   "name": "python3"
  },
  "language_info": {
   "codemirror_mode": {
    "name": "ipython",
    "version": 3
   },
   "file_extension": ".py",
   "mimetype": "text/x-python",
   "name": "python",
   "nbconvert_exporter": "python",
   "pygments_lexer": "ipython3",
   "version": "3.10.6"
  },
  "orig_nbformat": 4
 },
 "nbformat": 4,
 "nbformat_minor": 2
}
